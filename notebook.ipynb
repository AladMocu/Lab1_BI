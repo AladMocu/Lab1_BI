{
 "cells": [
  {
   "cell_type": "markdown",
   "source": [
    "- Albert Molano   - 201713848\r\n",
    "- Luisa Rodríguez - 201716897\r\n",
    "- Nicolas Segura  - 201716989"
   ],
   "metadata": {}
  },
  {
   "cell_type": "markdown",
   "source": [
    "## 1. Importación de librerías \r\n",
    "\r\n",
    "En las siguientes líneas de código se importan las librerías y herramientas necesarias para desarrollar el caso de uso."
   ],
   "metadata": {}
  },
  {
   "cell_type": "code",
   "execution_count": 173,
   "source": [
    "# Declaración de la semilla\r\n",
    "seed = 161\r\n",
    "# Librerías para manejo de datos\r\n",
    "import pandas as pd\r\n",
    "pd.set_option('display.max_columns', 25) # Número máximo de columnas a mostrar\r\n",
    "pd.set_option('display.max_rows', 50) # Numero máximo de filas a mostar\r\n",
    "\r\n",
    "import numpy as np\r\n",
    "np.random.seed(seed)\r\n",
    "\r\n",
    "\r\n",
    "# Para preparar los datos\r\n",
    "# ------------------------\r\n",
    "from sklearn import tree as tr\r\n",
    "from sklearn.preprocessing import LabelEncoder\r\n",
    "from sklearn.preprocessing import StandardScaler\r\n",
    "# Para crear el arbol de decisión \r\n",
    "from sklearn.tree import DecisionTreeClassifier \r\n",
    "# Para usar KNN como clasificador\r\n",
    "from sklearn.neighbors import KNeighborsClassifier\r\n",
    "# Para realizar la separación del conjunto de aprendizaje en entrenamiento y test.\r\n",
    "from sklearn.model_selection import train_test_split\r\n",
    "# Para evaluar el modelo\r\n",
    "from sklearn.metrics import confusion_matrix, classification_report, precision_score, recall_score, f1_score, accuracy_score\r\n",
    "from sklearn.metrics import plot_confusion_matrix , ConfusionMatrixDisplay\r\n",
    "# Para búsqueda de hiperparámetros\r\n",
    "from sklearn.model_selection import GridSearchCV\r\n",
    "# Para la validación cruzada\r\n",
    "from sklearn.model_selection import KFold \r\n",
    "\r\n",
    "from sklearn.linear_model import LinearRegression\r\n",
    "from sklearn.metrics import mean_squared_error, r2_score\r\n",
    "\r\n",
    "\r\n",
    "#Librerías para la visualización\r\n",
    "# -------------------------\r\n",
    "import matplotlib.pyplot as plt\r\n",
    "# Seaborn\r\n",
    "import seaborn as sns \r\n",
    "\r\n"
   ],
   "outputs": [],
   "metadata": {}
  },
  {
   "cell_type": "markdown",
   "source": [
    "## 2. Carga de los datos\r\n",
    "A través de la librería **pandas** podemos realizar la carga de datos desde diferentes fuentes de información, en este caso se realizará la carga de un archivo plano csv (archivo separado por comas)."
   ],
   "metadata": {}
  },
  {
   "cell_type": "code",
   "execution_count": 174,
   "source": [
    "# Se cargan los datos. \r\n",
    "diagnostics=pd.read_csv('datos/SaludAlpes_diagnosticos_dataset.csv', sep=';', encoding = 'utf-8')"
   ],
   "outputs": [],
   "metadata": {}
  },
  {
   "cell_type": "code",
   "execution_count": 175,
   "source": [
    "# Cantidad de datos y número de variables\r\n",
    "diagnostics.shape"
   ],
   "outputs": [
    {
     "output_type": "execute_result",
     "data": {
      "text/plain": [
       "(765, 11)"
      ]
     },
     "metadata": {},
     "execution_count": 175
    }
   ],
   "metadata": {}
  },
  {
   "cell_type": "code",
   "execution_count": 176,
   "source": [
    "# Mostrar los datos\r\n",
    "diagnostics.head()"
   ],
   "outputs": [
    {
     "output_type": "execute_result",
     "data": {
      "text/html": [
       "<div>\n",
       "<style scoped>\n",
       "    .dataframe tbody tr th:only-of-type {\n",
       "        vertical-align: middle;\n",
       "    }\n",
       "\n",
       "    .dataframe tbody tr th {\n",
       "        vertical-align: top;\n",
       "    }\n",
       "\n",
       "    .dataframe thead th {\n",
       "        text-align: right;\n",
       "    }\n",
       "</style>\n",
       "<table border=\"1\" class=\"dataframe\">\n",
       "  <thead>\n",
       "    <tr style=\"text-align: right;\">\n",
       "      <th></th>\n",
       "      <th>Hair_color</th>\n",
       "      <th>Pregnancies</th>\n",
       "      <th>Glucose</th>\n",
       "      <th>City</th>\n",
       "      <th>BloodPressure</th>\n",
       "      <th>SkinThickness</th>\n",
       "      <th>Insulin</th>\n",
       "      <th>BMI</th>\n",
       "      <th>DiabetesPedigreeFunction</th>\n",
       "      <th>Age</th>\n",
       "      <th>Outcome</th>\n",
       "    </tr>\n",
       "  </thead>\n",
       "  <tbody>\n",
       "    <tr>\n",
       "      <th>0</th>\n",
       "      <td>Red</td>\n",
       "      <td>6</td>\n",
       "      <td>148</td>\n",
       "      <td>New York</td>\n",
       "      <td>72</td>\n",
       "      <td>35</td>\n",
       "      <td>0</td>\n",
       "      <td>336</td>\n",
       "      <td>627</td>\n",
       "      <td>50</td>\n",
       "      <td>1</td>\n",
       "    </tr>\n",
       "    <tr>\n",
       "      <th>1</th>\n",
       "      <td>Black</td>\n",
       "      <td>1</td>\n",
       "      <td>85</td>\n",
       "      <td>New York</td>\n",
       "      <td>66</td>\n",
       "      <td>29</td>\n",
       "      <td>0</td>\n",
       "      <td>266</td>\n",
       "      <td>351</td>\n",
       "      <td>31</td>\n",
       "      <td>0</td>\n",
       "    </tr>\n",
       "    <tr>\n",
       "      <th>2</th>\n",
       "      <td>Red</td>\n",
       "      <td>8</td>\n",
       "      <td>183</td>\n",
       "      <td>New York</td>\n",
       "      <td>64</td>\n",
       "      <td>0</td>\n",
       "      <td>0</td>\n",
       "      <td>233</td>\n",
       "      <td>672</td>\n",
       "      <td>32</td>\n",
       "      <td>1</td>\n",
       "    </tr>\n",
       "    <tr>\n",
       "      <th>3</th>\n",
       "      <td>Black</td>\n",
       "      <td>1</td>\n",
       "      <td>89</td>\n",
       "      <td>New York</td>\n",
       "      <td>66</td>\n",
       "      <td>23</td>\n",
       "      <td>94</td>\n",
       "      <td>281</td>\n",
       "      <td>167</td>\n",
       "      <td>21</td>\n",
       "      <td>0</td>\n",
       "    </tr>\n",
       "    <tr>\n",
       "      <th>4</th>\n",
       "      <td>Black</td>\n",
       "      <td>0</td>\n",
       "      <td>137</td>\n",
       "      <td>New York</td>\n",
       "      <td>40</td>\n",
       "      <td>35</td>\n",
       "      <td>168</td>\n",
       "      <td>431</td>\n",
       "      <td>2288</td>\n",
       "      <td>33</td>\n",
       "      <td>1</td>\n",
       "    </tr>\n",
       "  </tbody>\n",
       "</table>\n",
       "</div>"
      ],
      "text/plain": [
       "  Hair_color  Pregnancies  Glucose      City  BloodPressure  SkinThickness  \\\n",
       "0        Red            6      148  New York             72             35   \n",
       "1      Black            1       85  New York             66             29   \n",
       "2        Red            8      183  New York             64              0   \n",
       "3      Black            1       89  New York             66             23   \n",
       "4      Black            0      137  New York             40             35   \n",
       "\n",
       "   Insulin  BMI  DiabetesPedigreeFunction  Age  Outcome  \n",
       "0        0  336                       627   50        1  \n",
       "1        0  266                       351   31        0  \n",
       "2        0  233                       672   32        1  \n",
       "3       94  281                       167   21        0  \n",
       "4      168  431                      2288   33        1  "
      ]
     },
     "metadata": {},
     "execution_count": 176
    }
   ],
   "metadata": {}
  },
  {
   "cell_type": "code",
   "execution_count": 177,
   "source": [
    "# Podemos ver los tipos de todas la variables.\r\n",
    "diagnostics.dtypes"
   ],
   "outputs": [
    {
     "output_type": "execute_result",
     "data": {
      "text/plain": [
       "Hair_color                  object\n",
       "Pregnancies                  int64\n",
       "Glucose                      int64\n",
       "City                        object\n",
       "BloodPressure                int64\n",
       "SkinThickness                int64\n",
       "Insulin                      int64\n",
       "BMI                          int64\n",
       "DiabetesPedigreeFunction     int64\n",
       "Age                          int64\n",
       "Outcome                      int64\n",
       "dtype: object"
      ]
     },
     "metadata": {},
     "execution_count": 177
    }
   ],
   "metadata": {}
  },
  {
   "cell_type": "code",
   "execution_count": 178,
   "source": [
    "# Y hacer una descripción de los datos\r\n",
    "diagnostics.describe()"
   ],
   "outputs": [
    {
     "output_type": "execute_result",
     "data": {
      "text/html": [
       "<div>\n",
       "<style scoped>\n",
       "    .dataframe tbody tr th:only-of-type {\n",
       "        vertical-align: middle;\n",
       "    }\n",
       "\n",
       "    .dataframe tbody tr th {\n",
       "        vertical-align: top;\n",
       "    }\n",
       "\n",
       "    .dataframe thead th {\n",
       "        text-align: right;\n",
       "    }\n",
       "</style>\n",
       "<table border=\"1\" class=\"dataframe\">\n",
       "  <thead>\n",
       "    <tr style=\"text-align: right;\">\n",
       "      <th></th>\n",
       "      <th>Pregnancies</th>\n",
       "      <th>Glucose</th>\n",
       "      <th>BloodPressure</th>\n",
       "      <th>SkinThickness</th>\n",
       "      <th>Insulin</th>\n",
       "      <th>BMI</th>\n",
       "      <th>DiabetesPedigreeFunction</th>\n",
       "      <th>Age</th>\n",
       "      <th>Outcome</th>\n",
       "    </tr>\n",
       "  </thead>\n",
       "  <tbody>\n",
       "    <tr>\n",
       "      <th>count</th>\n",
       "      <td>765.000000</td>\n",
       "      <td>765.000000</td>\n",
       "      <td>765.000000</td>\n",
       "      <td>765.000000</td>\n",
       "      <td>765.000000</td>\n",
       "      <td>765.000000</td>\n",
       "      <td>765.000000</td>\n",
       "      <td>765.000000</td>\n",
       "      <td>765.000000</td>\n",
       "    </tr>\n",
       "    <tr>\n",
       "      <th>mean</th>\n",
       "      <td>3.847059</td>\n",
       "      <td>120.975163</td>\n",
       "      <td>69.117647</td>\n",
       "      <td>20.581699</td>\n",
       "      <td>79.998693</td>\n",
       "      <td>289.675817</td>\n",
       "      <td>432.903268</td>\n",
       "      <td>33.261438</td>\n",
       "      <td>0.350327</td>\n",
       "    </tr>\n",
       "    <tr>\n",
       "      <th>std</th>\n",
       "      <td>3.369696</td>\n",
       "      <td>32.008477</td>\n",
       "      <td>19.387122</td>\n",
       "      <td>15.947154</td>\n",
       "      <td>115.397373</td>\n",
       "      <td>116.911406</td>\n",
       "      <td>336.427137</td>\n",
       "      <td>11.762356</td>\n",
       "      <td>0.477384</td>\n",
       "    </tr>\n",
       "    <tr>\n",
       "      <th>min</th>\n",
       "      <td>0.000000</td>\n",
       "      <td>0.000000</td>\n",
       "      <td>0.000000</td>\n",
       "      <td>0.000000</td>\n",
       "      <td>0.000000</td>\n",
       "      <td>0.000000</td>\n",
       "      <td>1.000000</td>\n",
       "      <td>21.000000</td>\n",
       "      <td>0.000000</td>\n",
       "    </tr>\n",
       "    <tr>\n",
       "      <th>25%</th>\n",
       "      <td>1.000000</td>\n",
       "      <td>99.000000</td>\n",
       "      <td>62.000000</td>\n",
       "      <td>0.000000</td>\n",
       "      <td>0.000000</td>\n",
       "      <td>252.000000</td>\n",
       "      <td>206.000000</td>\n",
       "      <td>24.000000</td>\n",
       "      <td>0.000000</td>\n",
       "    </tr>\n",
       "    <tr>\n",
       "      <th>50%</th>\n",
       "      <td>3.000000</td>\n",
       "      <td>117.000000</td>\n",
       "      <td>72.000000</td>\n",
       "      <td>23.000000</td>\n",
       "      <td>32.000000</td>\n",
       "      <td>309.000000</td>\n",
       "      <td>338.000000</td>\n",
       "      <td>29.000000</td>\n",
       "      <td>0.000000</td>\n",
       "    </tr>\n",
       "    <tr>\n",
       "      <th>75%</th>\n",
       "      <td>6.000000</td>\n",
       "      <td>141.000000</td>\n",
       "      <td>80.000000</td>\n",
       "      <td>32.000000</td>\n",
       "      <td>128.000000</td>\n",
       "      <td>359.000000</td>\n",
       "      <td>593.000000</td>\n",
       "      <td>41.000000</td>\n",
       "      <td>1.000000</td>\n",
       "    </tr>\n",
       "    <tr>\n",
       "      <th>max</th>\n",
       "      <td>17.000000</td>\n",
       "      <td>199.000000</td>\n",
       "      <td>122.000000</td>\n",
       "      <td>99.000000</td>\n",
       "      <td>846.000000</td>\n",
       "      <td>671.000000</td>\n",
       "      <td>2329.000000</td>\n",
       "      <td>81.000000</td>\n",
       "      <td>1.000000</td>\n",
       "    </tr>\n",
       "  </tbody>\n",
       "</table>\n",
       "</div>"
      ],
      "text/plain": [
       "       Pregnancies     Glucose  BloodPressure  SkinThickness     Insulin  \\\n",
       "count   765.000000  765.000000     765.000000     765.000000  765.000000   \n",
       "mean      3.847059  120.975163      69.117647      20.581699   79.998693   \n",
       "std       3.369696   32.008477      19.387122      15.947154  115.397373   \n",
       "min       0.000000    0.000000       0.000000       0.000000    0.000000   \n",
       "25%       1.000000   99.000000      62.000000       0.000000    0.000000   \n",
       "50%       3.000000  117.000000      72.000000      23.000000   32.000000   \n",
       "75%       6.000000  141.000000      80.000000      32.000000  128.000000   \n",
       "max      17.000000  199.000000     122.000000      99.000000  846.000000   \n",
       "\n",
       "              BMI  DiabetesPedigreeFunction         Age     Outcome  \n",
       "count  765.000000                765.000000  765.000000  765.000000  \n",
       "mean   289.675817                432.903268   33.261438    0.350327  \n",
       "std    116.911406                336.427137   11.762356    0.477384  \n",
       "min      0.000000                  1.000000   21.000000    0.000000  \n",
       "25%    252.000000                206.000000   24.000000    0.000000  \n",
       "50%    309.000000                338.000000   29.000000    0.000000  \n",
       "75%    359.000000                593.000000   41.000000    1.000000  \n",
       "max    671.000000               2329.000000   81.000000    1.000000  "
      ]
     },
     "metadata": {},
     "execution_count": 178
    }
   ],
   "metadata": {}
  },
  {
   "cell_type": "code",
   "execution_count": 179,
   "source": [
    "\r\n",
    "# Se observa que hay ausencias, en particular en la variable \"Insulin\". Veamos cuantas, para todas las variables:\r\n",
    "diagnostics[(diagnostics==0)].count()"
   ],
   "outputs": [
    {
     "output_type": "execute_result",
     "data": {
      "text/plain": [
       "Hair_color                    0\n",
       "Pregnancies                 111\n",
       "Glucose                       5\n",
       "City                          0\n",
       "BloodPressure                35\n",
       "SkinThickness               225\n",
       "Insulin                     372\n",
       "BMI                          11\n",
       "DiabetesPedigreeFunction      0\n",
       "Age                           0\n",
       "Outcome                     497\n",
       "dtype: int64"
      ]
     },
     "metadata": {},
     "execution_count": 179
    }
   ],
   "metadata": {}
  },
  {
   "cell_type": "markdown",
   "source": [
    "## 3. Limpieza y preparación de los datos\r\n",
    "\r\n",
    "Primero vamos a ejecutar los pasos de limpieza de los datos, relacionados el tratamiento de ausencias y registros duplicados."
   ],
   "metadata": {}
  },
  {
   "cell_type": "code",
   "execution_count": 180,
   "source": [
    "# Es recomendable que todos los pasos de limpieza y preparación se realicen sobre otro archivo.\r\n",
    "diagnostics_t = diagnostics.copy()\r\n",
    "# Primero eliminaremos aquellas columnas cuyas variables no brindan información relevante para el análisis. En este caso el color de cabello y la ciudad.\r\n",
    "diagnostics_t = diagnostics_t.drop(['Hair_color', 'City'], axis=1)"
   ],
   "outputs": [],
   "metadata": {}
  },
  {
   "cell_type": "code",
   "execution_count": 181,
   "source": [
    "# Eliminación registros con ausencias, en este caso se eliminaron los registros que registraban 0 en Insulin, BMI, Glucose o SkinThickness\r\n",
    "indices = diagnostics_t[(diagnostics_t['Insulin'] == 0) | (diagnostics_t['BMI'] == 0) | (diagnostics_t['Glucose'] == 0) | (diagnostics_t['SkinThickness'] == 0) ].index\r\n",
    "diagnostics_t.drop(indices, inplace=True)\r\n"
   ],
   "outputs": [],
   "metadata": {}
  },
  {
   "cell_type": "code",
   "execution_count": 182,
   "source": [
    "#Muestra una descripción de los datos\r\n",
    "diagnostics_t.describe()"
   ],
   "outputs": [
    {
     "output_type": "execute_result",
     "data": {
      "text/html": [
       "<div>\n",
       "<style scoped>\n",
       "    .dataframe tbody tr th:only-of-type {\n",
       "        vertical-align: middle;\n",
       "    }\n",
       "\n",
       "    .dataframe tbody tr th {\n",
       "        vertical-align: top;\n",
       "    }\n",
       "\n",
       "    .dataframe thead th {\n",
       "        text-align: right;\n",
       "    }\n",
       "</style>\n",
       "<table border=\"1\" class=\"dataframe\">\n",
       "  <thead>\n",
       "    <tr style=\"text-align: right;\">\n",
       "      <th></th>\n",
       "      <th>Pregnancies</th>\n",
       "      <th>Glucose</th>\n",
       "      <th>BloodPressure</th>\n",
       "      <th>SkinThickness</th>\n",
       "      <th>Insulin</th>\n",
       "      <th>BMI</th>\n",
       "      <th>DiabetesPedigreeFunction</th>\n",
       "      <th>Age</th>\n",
       "      <th>Outcome</th>\n",
       "    </tr>\n",
       "  </thead>\n",
       "  <tbody>\n",
       "    <tr>\n",
       "      <th>count</th>\n",
       "      <td>391.000000</td>\n",
       "      <td>391.000000</td>\n",
       "      <td>391.000000</td>\n",
       "      <td>391.000000</td>\n",
       "      <td>391.000000</td>\n",
       "      <td>391.000000</td>\n",
       "      <td>391.000000</td>\n",
       "      <td>391.000000</td>\n",
       "      <td>391.000000</td>\n",
       "    </tr>\n",
       "    <tr>\n",
       "      <th>mean</th>\n",
       "      <td>3.306905</td>\n",
       "      <td>122.695652</td>\n",
       "      <td>70.680307</td>\n",
       "      <td>29.150895</td>\n",
       "      <td>156.232737</td>\n",
       "      <td>307.956522</td>\n",
       "      <td>481.153453</td>\n",
       "      <td>30.890026</td>\n",
       "      <td>0.332481</td>\n",
       "    </tr>\n",
       "    <tr>\n",
       "      <th>std</th>\n",
       "      <td>3.213422</td>\n",
       "      <td>30.870814</td>\n",
       "      <td>12.507540</td>\n",
       "      <td>10.529336</td>\n",
       "      <td>118.942432</td>\n",
       "      <td>105.992238</td>\n",
       "      <td>340.667658</td>\n",
       "      <td>10.201593</td>\n",
       "      <td>0.471706</td>\n",
       "    </tr>\n",
       "    <tr>\n",
       "      <th>min</th>\n",
       "      <td>0.000000</td>\n",
       "      <td>56.000000</td>\n",
       "      <td>24.000000</td>\n",
       "      <td>7.000000</td>\n",
       "      <td>14.000000</td>\n",
       "      <td>24.000000</td>\n",
       "      <td>4.000000</td>\n",
       "      <td>21.000000</td>\n",
       "      <td>0.000000</td>\n",
       "    </tr>\n",
       "    <tr>\n",
       "      <th>25%</th>\n",
       "      <td>1.000000</td>\n",
       "      <td>99.000000</td>\n",
       "      <td>62.000000</td>\n",
       "      <td>21.000000</td>\n",
       "      <td>76.500000</td>\n",
       "      <td>262.500000</td>\n",
       "      <td>245.500000</td>\n",
       "      <td>23.000000</td>\n",
       "      <td>0.000000</td>\n",
       "    </tr>\n",
       "    <tr>\n",
       "      <th>50%</th>\n",
       "      <td>2.000000</td>\n",
       "      <td>119.000000</td>\n",
       "      <td>70.000000</td>\n",
       "      <td>29.000000</td>\n",
       "      <td>126.000000</td>\n",
       "      <td>328.000000</td>\n",
       "      <td>422.000000</td>\n",
       "      <td>27.000000</td>\n",
       "      <td>0.000000</td>\n",
       "    </tr>\n",
       "    <tr>\n",
       "      <th>75%</th>\n",
       "      <td>5.000000</td>\n",
       "      <td>143.000000</td>\n",
       "      <td>78.000000</td>\n",
       "      <td>37.000000</td>\n",
       "      <td>190.000000</td>\n",
       "      <td>368.500000</td>\n",
       "      <td>669.500000</td>\n",
       "      <td>36.000000</td>\n",
       "      <td>1.000000</td>\n",
       "    </tr>\n",
       "    <tr>\n",
       "      <th>max</th>\n",
       "      <td>17.000000</td>\n",
       "      <td>198.000000</td>\n",
       "      <td>110.000000</td>\n",
       "      <td>63.000000</td>\n",
       "      <td>846.000000</td>\n",
       "      <td>671.000000</td>\n",
       "      <td>2329.000000</td>\n",
       "      <td>81.000000</td>\n",
       "      <td>1.000000</td>\n",
       "    </tr>\n",
       "  </tbody>\n",
       "</table>\n",
       "</div>"
      ],
      "text/plain": [
       "       Pregnancies     Glucose  BloodPressure  SkinThickness     Insulin  \\\n",
       "count   391.000000  391.000000     391.000000     391.000000  391.000000   \n",
       "mean      3.306905  122.695652      70.680307      29.150895  156.232737   \n",
       "std       3.213422   30.870814      12.507540      10.529336  118.942432   \n",
       "min       0.000000   56.000000      24.000000       7.000000   14.000000   \n",
       "25%       1.000000   99.000000      62.000000      21.000000   76.500000   \n",
       "50%       2.000000  119.000000      70.000000      29.000000  126.000000   \n",
       "75%       5.000000  143.000000      78.000000      37.000000  190.000000   \n",
       "max      17.000000  198.000000     110.000000      63.000000  846.000000   \n",
       "\n",
       "              BMI  DiabetesPedigreeFunction         Age     Outcome  \n",
       "count  391.000000                391.000000  391.000000  391.000000  \n",
       "mean   307.956522                481.153453   30.890026    0.332481  \n",
       "std    105.992238                340.667658   10.201593    0.471706  \n",
       "min     24.000000                  4.000000   21.000000    0.000000  \n",
       "25%    262.500000                245.500000   23.000000    0.000000  \n",
       "50%    328.000000                422.000000   27.000000    0.000000  \n",
       "75%    368.500000                669.500000   36.000000    1.000000  \n",
       "max    671.000000               2329.000000   81.000000    1.000000  "
      ]
     },
     "metadata": {},
     "execution_count": 182
    }
   ],
   "metadata": {}
  },
  {
   "cell_type": "code",
   "execution_count": 183,
   "source": [
    "# Cantidad de datos y número de variables\r\n",
    "diagnostics_t.shape"
   ],
   "outputs": [
    {
     "output_type": "execute_result",
     "data": {
      "text/plain": [
       "(391, 9)"
      ]
     },
     "metadata": {},
     "execution_count": 183
    }
   ],
   "metadata": {}
  },
  {
   "cell_type": "code",
   "execution_count": 185,
   "source": [
    "# Mostrar los datos\r\n",
    "diagnostics_t.head()"
   ],
   "outputs": [
    {
     "output_type": "execute_result",
     "data": {
      "text/html": [
       "<div>\n",
       "<style scoped>\n",
       "    .dataframe tbody tr th:only-of-type {\n",
       "        vertical-align: middle;\n",
       "    }\n",
       "\n",
       "    .dataframe tbody tr th {\n",
       "        vertical-align: top;\n",
       "    }\n",
       "\n",
       "    .dataframe thead th {\n",
       "        text-align: right;\n",
       "    }\n",
       "</style>\n",
       "<table border=\"1\" class=\"dataframe\">\n",
       "  <thead>\n",
       "    <tr style=\"text-align: right;\">\n",
       "      <th></th>\n",
       "      <th>Pregnancies</th>\n",
       "      <th>Glucose</th>\n",
       "      <th>BloodPressure</th>\n",
       "      <th>SkinThickness</th>\n",
       "      <th>Insulin</th>\n",
       "      <th>BMI</th>\n",
       "      <th>DiabetesPedigreeFunction</th>\n",
       "      <th>Age</th>\n",
       "      <th>Outcome</th>\n",
       "    </tr>\n",
       "  </thead>\n",
       "  <tbody>\n",
       "    <tr>\n",
       "      <th>3</th>\n",
       "      <td>1</td>\n",
       "      <td>89</td>\n",
       "      <td>66</td>\n",
       "      <td>23</td>\n",
       "      <td>94</td>\n",
       "      <td>281</td>\n",
       "      <td>167</td>\n",
       "      <td>21</td>\n",
       "      <td>0</td>\n",
       "    </tr>\n",
       "    <tr>\n",
       "      <th>4</th>\n",
       "      <td>0</td>\n",
       "      <td>137</td>\n",
       "      <td>40</td>\n",
       "      <td>35</td>\n",
       "      <td>168</td>\n",
       "      <td>431</td>\n",
       "      <td>2288</td>\n",
       "      <td>33</td>\n",
       "      <td>1</td>\n",
       "    </tr>\n",
       "    <tr>\n",
       "      <th>6</th>\n",
       "      <td>3</td>\n",
       "      <td>78</td>\n",
       "      <td>50</td>\n",
       "      <td>32</td>\n",
       "      <td>88</td>\n",
       "      <td>31</td>\n",
       "      <td>248</td>\n",
       "      <td>26</td>\n",
       "      <td>1</td>\n",
       "    </tr>\n",
       "    <tr>\n",
       "      <th>8</th>\n",
       "      <td>2</td>\n",
       "      <td>197</td>\n",
       "      <td>70</td>\n",
       "      <td>45</td>\n",
       "      <td>543</td>\n",
       "      <td>305</td>\n",
       "      <td>158</td>\n",
       "      <td>53</td>\n",
       "      <td>1</td>\n",
       "    </tr>\n",
       "    <tr>\n",
       "      <th>13</th>\n",
       "      <td>1</td>\n",
       "      <td>189</td>\n",
       "      <td>60</td>\n",
       "      <td>23</td>\n",
       "      <td>846</td>\n",
       "      <td>301</td>\n",
       "      <td>398</td>\n",
       "      <td>59</td>\n",
       "      <td>1</td>\n",
       "    </tr>\n",
       "  </tbody>\n",
       "</table>\n",
       "</div>"
      ],
      "text/plain": [
       "    Pregnancies  Glucose  BloodPressure  SkinThickness  Insulin  BMI  \\\n",
       "3             1       89             66             23       94  281   \n",
       "4             0      137             40             35      168  431   \n",
       "6             3       78             50             32       88   31   \n",
       "8             2      197             70             45      543  305   \n",
       "13            1      189             60             23      846  301   \n",
       "\n",
       "    DiabetesPedigreeFunction  Age  Outcome  \n",
       "3                        167   21        0  \n",
       "4                       2288   33        1  \n",
       "6                        248   26        1  \n",
       "8                        158   53        1  \n",
       "13                       398   59        1  "
      ]
     },
     "metadata": {},
     "execution_count": 185
    }
   ],
   "metadata": {}
  },
  {
   "cell_type": "code",
   "execution_count": 3,
   "source": [
    "# Podemos ver los estadísticos de la variable \"Outcome\"\r\n",
    "pd.value_counts(diagnostics_t['Outcome'])"
   ],
   "outputs": [
    {
     "output_type": "error",
     "ename": "NameError",
     "evalue": "name 'pd' is not defined",
     "traceback": [
      "\u001b[1;31m---------------------------------------------------------------------------\u001b[0m",
      "\u001b[1;31mNameError\u001b[0m                                 Traceback (most recent call last)",
      "\u001b[1;32m<ipython-input-3-c1470c05cc0b>\u001b[0m in \u001b[0;36m<module>\u001b[1;34m\u001b[0m\n\u001b[0;32m      1\u001b[0m \u001b[1;31m# Podemos ver los estadísticos de la variable \"Outcome\"\u001b[0m\u001b[1;33m\u001b[0m\u001b[1;33m\u001b[0m\u001b[1;33m\u001b[0m\u001b[0m\n\u001b[1;32m----> 2\u001b[1;33m \u001b[0mpd\u001b[0m\u001b[1;33m.\u001b[0m\u001b[0mvalue_counts\u001b[0m\u001b[1;33m(\u001b[0m\u001b[0mdiagnostics_t\u001b[0m\u001b[1;33m[\u001b[0m\u001b[1;34m'Outcome'\u001b[0m\u001b[1;33m]\u001b[0m\u001b[1;33m)\u001b[0m\u001b[1;33m\u001b[0m\u001b[1;33m\u001b[0m\u001b[0m\n\u001b[0m",
      "\u001b[1;31mNameError\u001b[0m: name 'pd' is not defined"
     ]
    }
   ],
   "metadata": {}
  },
  {
   "cell_type": "code",
   "execution_count": 187,
   "source": [
    "#Se muestra una gráfica de la cantidad de personas que tiene y no tienen diabetes\r\n",
    "ax = sns.countplot(x='Outcome', data=diagnostics_t)"
   ],
   "outputs": [
    {
     "output_type": "display_data",
     "data": {
      "image/png": "[encoded data removed]",
      "text/plain": [
       "<Figure size 432x288 with 1 Axes>"
      ]
     },
     "metadata": {
      "needs_background": "light"
     }
    }
   ],
   "metadata": {}
  },
  {
   "cell_type": "markdown",
   "source": [
    "Ya que scikit-learn requiere que tanto los atributos como la variable objetivo sean numéricos, transformaremos los datos para que cumplan con dicha condición."
   ],
   "metadata": {}
  },
  {
   "cell_type": "code",
   "execution_count": 188,
   "source": [
    "# Vamos a seleccionar de nuestro conjunto solo los atributos numéricos.\r\n",
    "number_cols = diagnostics_t.dtypes[(diagnostics_t.dtypes == np.int64) | (diagnostics_t.dtypes == np.float64)].index \r\n",
    "number_cols = diagnostics_t.select_dtypes(include = ['int64','float']).columns\r\n",
    "number_cols"
   ],
   "outputs": [
    {
     "output_type": "execute_result",
     "data": {
      "text/plain": [
       "Index(['Pregnancies', 'Glucose', 'BloodPressure', 'SkinThickness', 'Insulin',\n",
       "       'BMI', 'DiabetesPedigreeFunction', 'Age', 'Outcome'],\n",
       "      dtype='object')"
      ]
     },
     "metadata": {},
     "execution_count": 188
    }
   ],
   "metadata": {}
  },
  {
   "cell_type": "code",
   "execution_count": 2,
   "source": [
    "diagnostics_m = diagnostics_t[number_cols]"
   ],
   "outputs": [
    {
     "output_type": "error",
     "ename": "NameError",
     "evalue": "name 'diagnostics_t' is not defined",
     "traceback": [
      "\u001b[1;31m---------------------------------------------------------------------------\u001b[0m",
      "\u001b[1;31mNameError\u001b[0m                                 Traceback (most recent call last)",
      "\u001b[1;32m<ipython-input-2-80d6a0c0f18a>\u001b[0m in \u001b[0;36m<module>\u001b[1;34m\u001b[0m\n\u001b[1;32m----> 1\u001b[1;33m \u001b[0mdiagnostics_m\u001b[0m \u001b[1;33m=\u001b[0m \u001b[0mdiagnostics_t\u001b[0m\u001b[1;33m[\u001b[0m\u001b[0mnumber_cols\u001b[0m\u001b[1;33m]\u001b[0m\u001b[1;33m\u001b[0m\u001b[1;33m\u001b[0m\u001b[0m\n\u001b[0m",
      "\u001b[1;31mNameError\u001b[0m: name 'diagnostics_t' is not defined"
     ]
    }
   ],
   "metadata": {}
  },
  {
   "cell_type": "code",
   "execution_count": 190,
   "source": [
    "# Podemos ver como quedaron los datos\r\n",
    "diagnostics_m.head()"
   ],
   "outputs": [
    {
     "output_type": "execute_result",
     "data": {
      "text/html": [
       "<div>\n",
       "<style scoped>\n",
       "    .dataframe tbody tr th:only-of-type {\n",
       "        vertical-align: middle;\n",
       "    }\n",
       "\n",
       "    .dataframe tbody tr th {\n",
       "        vertical-align: top;\n",
       "    }\n",
       "\n",
       "    .dataframe thead th {\n",
       "        text-align: right;\n",
       "    }\n",
       "</style>\n",
       "<table border=\"1\" class=\"dataframe\">\n",
       "  <thead>\n",
       "    <tr style=\"text-align: right;\">\n",
       "      <th></th>\n",
       "      <th>Pregnancies</th>\n",
       "      <th>Glucose</th>\n",
       "      <th>BloodPressure</th>\n",
       "      <th>SkinThickness</th>\n",
       "      <th>Insulin</th>\n",
       "      <th>BMI</th>\n",
       "      <th>DiabetesPedigreeFunction</th>\n",
       "      <th>Age</th>\n",
       "      <th>Outcome</th>\n",
       "    </tr>\n",
       "  </thead>\n",
       "  <tbody>\n",
       "    <tr>\n",
       "      <th>3</th>\n",
       "      <td>1</td>\n",
       "      <td>89</td>\n",
       "      <td>66</td>\n",
       "      <td>23</td>\n",
       "      <td>94</td>\n",
       "      <td>281</td>\n",
       "      <td>167</td>\n",
       "      <td>21</td>\n",
       "      <td>0</td>\n",
       "    </tr>\n",
       "    <tr>\n",
       "      <th>4</th>\n",
       "      <td>0</td>\n",
       "      <td>137</td>\n",
       "      <td>40</td>\n",
       "      <td>35</td>\n",
       "      <td>168</td>\n",
       "      <td>431</td>\n",
       "      <td>2288</td>\n",
       "      <td>33</td>\n",
       "      <td>1</td>\n",
       "    </tr>\n",
       "    <tr>\n",
       "      <th>6</th>\n",
       "      <td>3</td>\n",
       "      <td>78</td>\n",
       "      <td>50</td>\n",
       "      <td>32</td>\n",
       "      <td>88</td>\n",
       "      <td>31</td>\n",
       "      <td>248</td>\n",
       "      <td>26</td>\n",
       "      <td>1</td>\n",
       "    </tr>\n",
       "    <tr>\n",
       "      <th>8</th>\n",
       "      <td>2</td>\n",
       "      <td>197</td>\n",
       "      <td>70</td>\n",
       "      <td>45</td>\n",
       "      <td>543</td>\n",
       "      <td>305</td>\n",
       "      <td>158</td>\n",
       "      <td>53</td>\n",
       "      <td>1</td>\n",
       "    </tr>\n",
       "    <tr>\n",
       "      <th>13</th>\n",
       "      <td>1</td>\n",
       "      <td>189</td>\n",
       "      <td>60</td>\n",
       "      <td>23</td>\n",
       "      <td>846</td>\n",
       "      <td>301</td>\n",
       "      <td>398</td>\n",
       "      <td>59</td>\n",
       "      <td>1</td>\n",
       "    </tr>\n",
       "  </tbody>\n",
       "</table>\n",
       "</div>"
      ],
      "text/plain": [
       "    Pregnancies  Glucose  BloodPressure  SkinThickness  Insulin  BMI  \\\n",
       "3             1       89             66             23       94  281   \n",
       "4             0      137             40             35      168  431   \n",
       "6             3       78             50             32       88   31   \n",
       "8             2      197             70             45      543  305   \n",
       "13            1      189             60             23      846  301   \n",
       "\n",
       "    DiabetesPedigreeFunction  Age  Outcome  \n",
       "3                        167   21        0  \n",
       "4                       2288   33        1  \n",
       "6                        248   26        1  \n",
       "8                        158   53        1  \n",
       "13                       398   59        1  "
      ]
     },
     "metadata": {},
     "execution_count": 190
    }
   ],
   "metadata": {}
  },
  {
   "cell_type": "code",
   "execution_count": 191,
   "source": [
    "# Revisión del total de registros después de la limpieza\r\n",
    "diagnostics_m.shape"
   ],
   "outputs": [
    {
     "output_type": "execute_result",
     "data": {
      "text/plain": [
       "(391, 9)"
      ]
     },
     "metadata": {},
     "execution_count": 191
    }
   ],
   "metadata": {}
  },
  {
   "cell_type": "markdown",
   "source": [
    "## 4. Construcción del modelo\r\n",
    "\r\n",
    "Los algoritmos supervisados implementados en scikit-learn requieren que las variables de entrada estén separadas de la variable objetivo. Adicionalmente debemos normalizar los datos. Esto con el fin de que las distancias sean equiparables."
   ],
   "metadata": {}
  },
  {
   "cell_type": "code",
   "execution_count": 192,
   "source": [
    "#Se realiza la tarea de estandarización\r\n",
    "scaler = StandardScaler()\r\n",
    "#Tomamos los datos de entrenamiento como argumentos\r\n",
    "normalized_diag = scaler.fit_transform(diagnostics_m)\r\n",
    "normalized_diag = pd.DataFrame(data=diagnostics_m,columns=diagnostics_m.columns)\r\n"
   ],
   "outputs": [],
   "metadata": {}
  },
  {
   "cell_type": "code",
   "execution_count": 193,
   "source": [
    "# Se selecciona la variable objetivo, en este caso \"Outcome\".\r\n",
    "Y = normalized_diag['Outcome']\r\n",
    "# Del conjunto de datos se elimina la variable \"Outcome\"\r\n",
    "X = normalized_diag.drop(['Outcome'], axis=1)"
   ],
   "outputs": [],
   "metadata": {}
  },
  {
   "cell_type": "code",
   "execution_count": 194,
   "source": [
    "# Dividir los datos en entrenamiento y test\r\n",
    "X_train, X_test, Y_train, Y_test = train_test_split(X, Y, test_size=0.2, random_state=seed)"
   ],
   "outputs": [],
   "metadata": {}
  },
  {
   "cell_type": "markdown",
   "source": [
    "#### 4.1  KNN: Nicolas Segura"
   ],
   "metadata": {}
  },
  {
   "cell_type": "code",
   "execution_count": 195,
   "source": [
    "#Por medio de k-fold Cross-Validation se determinan los hiperparámetros. Para este caso se determinó que la mejor opción es utilizar minkowski con 5 vecinos y p = 2 (Distancia Euclidiana) \r\n",
    "particiones_knn=KFold(n_splits=10,shuffle=True,random_state=seed)\r\n",
    "param_grid_knn = {'n_neighbors': [2,3,5,7,9,11],'metric': ['minkowski','euclidean','manhattan'], 'p': [1,2]}"
   ],
   "outputs": [],
   "metadata": {}
  },
  {
   "cell_type": "code",
   "execution_count": 196,
   "source": [
    "neigh = KNeighborsClassifier()\r\n",
    "#La siguiente función ermite evaluar y seleccionar de forma sistemática los parámetros de un modelo.\r\n",
    "mejor_modelok = GridSearchCV(neigh, param_grid_knn, cv=particiones_knn)\r\n",
    "#Tomamos los datos de entrenamiento como argumentos\r\n",
    "mejor_modelok.fit(X_train, Y_train)"
   ],
   "outputs": [
    {
     "output_type": "execute_result",
     "data": {
      "text/plain": [
       "GridSearchCV(cv=KFold(n_splits=10, random_state=161, shuffle=True),\n",
       "             estimator=KNeighborsClassifier(),\n",
       "             param_grid={'metric': ['minkowski', 'euclidean', 'manhattan'],\n",
       "                         'n_neighbors': [2, 3, 5, 7, 9, 11], 'p': [1, 2]})"
      ]
     },
     "metadata": {},
     "execution_count": 196
    }
   ],
   "metadata": {}
  },
  {
   "cell_type": "code",
   "execution_count": 197,
   "source": [
    "#Obtenemos los mejores hiperparámetros\r\n",
    "mejor_modelok.best_params_"
   ],
   "outputs": [
    {
     "output_type": "execute_result",
     "data": {
      "text/plain": [
       "{'metric': 'minkowski', 'n_neighbors': 5, 'p': 2}"
      ]
     },
     "metadata": {},
     "execution_count": 197
    }
   ],
   "metadata": {}
  },
  {
   "cell_type": "code",
   "execution_count": 198,
   "source": [
    "neigh_f = mejor_modelok.best_estimator_"
   ],
   "outputs": [],
   "metadata": {}
  },
  {
   "cell_type": "code",
   "execution_count": 199,
   "source": [
    "#Nos permite predecir las etiquetas de los valores de los datos sobre la base del modelo entrenado.\r\n",
    "y_pred = neigh_f.predict(X_test)"
   ],
   "outputs": [],
   "metadata": {}
  },
  {
   "cell_type": "code",
   "execution_count": 200,
   "source": [
    "# Se genera la matriz de confusión\r\n",
    "confusion_matrix(Y_test, y_pred)"
   ],
   "outputs": [
    {
     "output_type": "execute_result",
     "data": {
      "text/plain": [
       "array([[35, 17],\n",
       "       [10, 17]], dtype=int64)"
      ]
     },
     "metadata": {},
     "execution_count": 200
    }
   ],
   "metadata": {}
  },
  {
   "cell_type": "code",
   "execution_count": 201,
   "source": [
    "# Se puede visualizar la matriz de confusión\r\n",
    "plot_confusion_matrix(neigh_f, X_test, Y_test)  \r\n",
    "plt.show()"
   ],
   "outputs": [
    {
     "output_type": "display_data",
     "data": {
      "image/png": "[encoded data removed]",
      "text/plain": [
       "<Figure size 432x288 with 2 Axes>"
      ]
     },
     "metadata": {
      "needs_background": "light"
     }
    }
   ],
   "metadata": {}
  },
  {
   "cell_type": "code",
   "execution_count": 202,
   "source": [
    "# Mostrar reporte de clasificación\r\n",
    "print(classification_report(Y_test, y_pred))"
   ],
   "outputs": [
    {
     "output_type": "stream",
     "name": "stdout",
     "text": [
      "              precision    recall  f1-score   support\n",
      "\n",
      "           0       0.78      0.67      0.72        52\n",
      "           1       0.50      0.63      0.56        27\n",
      "\n",
      "    accuracy                           0.66        79\n",
      "   macro avg       0.64      0.65      0.64        79\n",
      "weighted avg       0.68      0.66      0.67        79\n",
      "\n"
     ]
    }
   ],
   "metadata": {}
  },
  {
   "cell_type": "markdown",
   "source": [
    "### 4.2 Árbol de decisión: Mariana Rodriguez"
   ],
   "metadata": {}
  },
  {
   "cell_type": "code",
   "execution_count": 203,
   "source": [
    "#Por medio de k-fold Cross-Validation se determinan los hiperparámetros. Para este caso se determinó que la mejor opción es utilizar gini con profundidad de 4 y  un mínimo de muestras por split de 5.\r\n",
    "#Gini nos permite medir la probabilidad de no sacar dos registros de la misma clase del nodo. \r\n",
    "particiones_t = KFold(n_splits=10, shuffle=True, random_state=seed)\r\n",
    "param_grid = {'criterion': ['gini', 'entropy'],'max_depth': [4,6,8,10,20], 'min_samples_split': [2,3,5,10,15]}"
   ],
   "outputs": [],
   "metadata": {}
  },
  {
   "cell_type": "code",
   "execution_count": 204,
   "source": [
    "#La función mide la calidad de una división.\r\n",
    "tree = DecisionTreeClassifier(random_state=seed)\r\n",
    "#Ayuda a recorrer hiperparámetros predefinidos en su conjunto de entrenamiento.\r\n",
    "mejor_modelo = GridSearchCV(tree, param_grid, cv=particiones_t)\r\n",
    "#Tomamos los datos de entrenamiento como argumentos\r\n",
    "mejor_modelo.fit(X_train, Y_train)"
   ],
   "outputs": [
    {
     "output_type": "execute_result",
     "data": {
      "text/plain": [
       "GridSearchCV(cv=KFold(n_splits=10, random_state=161, shuffle=True),\n",
       "             estimator=DecisionTreeClassifier(random_state=161),\n",
       "             param_grid={'criterion': ['gini', 'entropy'],\n",
       "                         'max_depth': [4, 6, 8, 10, 20],\n",
       "                         'min_samples_split': [2, 3, 5, 10, 15]})"
      ]
     },
     "metadata": {},
     "execution_count": 204
    }
   ],
   "metadata": {}
  },
  {
   "cell_type": "code",
   "execution_count": 205,
   "source": [
    "mejor_modelo.best_params_"
   ],
   "outputs": [
    {
     "output_type": "execute_result",
     "data": {
      "text/plain": [
       "{'criterion': 'gini', 'max_depth': 4, 'min_samples_split': 5}"
      ]
     },
     "metadata": {},
     "execution_count": 205
    }
   ],
   "metadata": {}
  },
  {
   "cell_type": "code",
   "execution_count": 206,
   "source": [
    "# Crear el objeto de arbol de decisión. \r\n",
    "f_tree=mejor_modelo.best_estimator_"
   ],
   "outputs": [],
   "metadata": {}
  },
  {
   "cell_type": "markdown",
   "source": [
    "Para determinar el rendimiento del modelo podemos en primer lugar, generar la matriz de confusión."
   ],
   "metadata": {}
  },
  {
   "cell_type": "code",
   "execution_count": 207,
   "source": [
    "# Determinamos las predicciones del modelo sobre el conjunto test.\r\n",
    "y_pred = f_tree.predict(X_test)"
   ],
   "outputs": [],
   "metadata": {}
  },
  {
   "cell_type": "code",
   "execution_count": 208,
   "source": [
    "# Se genera la matriz de confusión\r\n",
    "confusion_matrix(Y_test, y_pred)"
   ],
   "outputs": [
    {
     "output_type": "execute_result",
     "data": {
      "text/plain": [
       "array([[46,  6],\n",
       "       [11, 16]], dtype=int64)"
      ]
     },
     "metadata": {},
     "execution_count": 208
    }
   ],
   "metadata": {}
  },
  {
   "cell_type": "code",
   "execution_count": 209,
   "source": [
    "# Se puede visualizar la matriz de confusión\r\n",
    "plot_confusion_matrix(f_tree, X_test, Y_test)  \r\n",
    "plt.show()  "
   ],
   "outputs": [
    {
     "output_type": "display_data",
     "data": {
      "image/png": "[encoded data removed]",
      "text/plain": [
       "<Figure size 432x288 with 2 Axes>"
      ]
     },
     "metadata": {
      "needs_background": "light"
     }
    }
   ],
   "metadata": {}
  },
  {
   "cell_type": "code",
   "execution_count": 210,
   "source": [
    "#Imprimimos los indicadores de exactitud, recall, precisión y puntuación F1 para evaluar \r\n",
    "print('Exactitud: %.2f' % accuracy_score(Y_test, y_pred))\r\n",
    "print(\"Recall: {}\".format(recall_score(Y_test,y_pred)))\r\n",
    "print(\"Precisión: {}\".format(precision_score(Y_test,y_pred)))\r\n",
    "print(\"Puntuación F1: {}\".format(f1_score(Y_test,y_pred)))"
   ],
   "outputs": [
    {
     "output_type": "stream",
     "name": "stdout",
     "text": [
      "Exactitud: 0.78\n",
      "Recall: 0.5925925925925926\n",
      "Precisión: 0.7272727272727273\n",
      "Puntuación F1: 0.6530612244897959\n"
     ]
    }
   ],
   "metadata": {}
  },
  {
   "cell_type": "markdown",
   "source": [
    "Para tener una panorama completo podemos generar un reporte."
   ],
   "metadata": {}
  },
  {
   "cell_type": "code",
   "execution_count": 211,
   "source": [
    "# Mostrar reporte de clasificación\r\n",
    "print(classification_report(Y_test, y_pred))"
   ],
   "outputs": [
    {
     "output_type": "stream",
     "name": "stdout",
     "text": [
      "              precision    recall  f1-score   support\n",
      "\n",
      "           0       0.81      0.88      0.84        52\n",
      "           1       0.73      0.59      0.65        27\n",
      "\n",
      "    accuracy                           0.78        79\n",
      "   macro avg       0.77      0.74      0.75        79\n",
      "weighted avg       0.78      0.78      0.78        79\n",
      "\n"
     ]
    }
   ],
   "metadata": {}
  },
  {
   "cell_type": "markdown",
   "source": [
    "### 4.3 Regresion Lineal: Albert Molano"
   ],
   "metadata": {}
  },
  {
   "cell_type": "code",
   "execution_count": 212,
   "source": [
    "#Realiza una regresión lineal (en donde se modela la relación entre una variable dependiente con un conjunto dado de variables independientes) con los datos de entrenamiento como argumentos\r\n",
    "LinearModel = LinearRegression().fit(X_train, Y_train)\r\n",
    "#Se evalúa la relación de las variables con la variable objetivo\r\n",
    "list(zip(X_train, LinearModel.coef_))"
   ],
   "outputs": [
    {
     "output_type": "execute_result",
     "data": {
      "text/plain": [
       "[('Pregnancies', 0.01465415812674797),\n",
       " ('Glucose', 0.005837548337767924),\n",
       " ('BloodPressure', 0.00010166786453881266),\n",
       " ('SkinThickness', 0.007015097914197059),\n",
       " ('Insulin', 9.259670864055543e-05),\n",
       " ('BMI', 0.00010177581239243774),\n",
       " ('DiabetesPedigreeFunction', 0.00010673957341022187),\n",
       " ('Age', 0.004202746820281317)]"
      ]
     },
     "metadata": {},
     "execution_count": 212
    }
   ],
   "metadata": {}
  },
  {
   "cell_type": "code",
   "execution_count": 213,
   "source": [
    "#Este método nos permite predecir las etiquetas de los valores de los datos sobre la base del modelo entrenado.\r\n",
    "y_prediction_lineal = LinearModel.predict(X_test)\r\n",
    "#Se entrena el modelo y se muestran los coeficientes de cada valor de la regresión\r\n",
    "y_prediction_lineal"
   ],
   "outputs": [
    {
     "output_type": "execute_result",
     "data": {
      "text/plain": [
       "array([ 0.47163607,  0.13436721,  0.46049605,  0.21443328,  0.15746516,\n",
       "        0.08479682,  0.28553831,  0.22603994,  0.36215367, -0.05277231,\n",
       "        0.37242334,  0.11526765,  0.22999887,  0.80423171,  0.60999376,\n",
       "        0.03824575,  0.79061   ,  0.43311593,  0.30957307,  0.77726928,\n",
       "        0.39629162,  0.66532921,  0.8980691 , -0.02332922,  0.67847849,\n",
       "       -0.14530001,  0.72677469,  0.06380456,  0.33982478,  0.2175439 ,\n",
       "        0.43570589,  0.08804496,  0.18564344,  0.24540642,  0.32754033,\n",
       "        0.24562888,  0.47879507,  0.31655231, -0.00417499,  0.55729076,\n",
       "        0.11134705,  0.26007397,  0.47088872,  0.18617586,  0.75672408,\n",
       "        0.54479379,  0.09943496,  0.57034135,  0.47239633,  0.66027238,\n",
       "       -0.00769154,  0.59802479,  0.60809103,  0.23097931,  0.5376567 ,\n",
       "        0.31535472,  0.23309168,  0.73143266,  0.12293031,  0.23611009,\n",
       "        0.1253356 ,  0.41230013,  0.14822331,  0.10523829,  0.16047314,\n",
       "        0.43348794,  0.26858238,  0.48236628,  0.60288789, -0.02541361,\n",
       "        0.62095624,  0.32455799,  0.64779236,  0.70798156,  0.48034748,\n",
       "        0.1418996 ,  0.00445935,  0.30271064,  0.55111419])"
      ]
     },
     "metadata": {},
     "execution_count": 213
    }
   ],
   "metadata": {}
  },
  {
   "cell_type": "code",
   "execution_count": 214,
   "source": [
    "#Se aplica la función sigmoide para regular los valores del outcome\r\n",
    "y_prediction_lineal=np.array(list(map(lambda x: (1/(1+(np.exp(-x)))), y_prediction_lineal)))\r\n",
    "y_prediction_lineal"
   ],
   "outputs": [
    {
     "output_type": "execute_result",
     "data": {
      "text/plain": [
       "array([0.61577092, 0.53354135, 0.61313185, 0.55340384, 0.53928515,\n",
       "       0.52118651, 0.57090349, 0.5562706 , 0.58956168, 0.48680998,\n",
       "       0.59204441, 0.52878505, 0.55724758, 0.69087896, 0.64793938,\n",
       "       0.50956027, 0.6879623 , 0.60661748, 0.57678105, 0.68509128,\n",
       "       0.59779636, 0.6604565 , 0.71055254, 0.49416796, 0.66339903,\n",
       "       0.46373877, 0.6740971 , 0.51594573, 0.58414796, 0.5541725 ,\n",
       "       0.60723536, 0.52199703, 0.54627803, 0.56104554, 0.58116078,\n",
       "       0.56110033, 0.61746331, 0.5784838 , 0.49895625, 0.63582544,\n",
       "       0.52780804, 0.56465448, 0.61559408, 0.54640999, 0.68064207,\n",
       "       0.63292687, 0.52483828, 0.63884194, 0.61595078, 0.65932157,\n",
       "       0.49807712, 0.64520428, 0.64750522, 0.55748946, 0.63126714,\n",
       "       0.57819175, 0.55801051, 0.67511958, 0.53069393, 0.55875482,\n",
       "       0.53129294, 0.60163928, 0.53698813, 0.52628532, 0.54003241,\n",
       "       0.60670625, 0.56674485, 0.61830648, 0.64631673, 0.49364694,\n",
       "       0.650436  , 0.58043467, 0.6565128 , 0.66995501, 0.61782992,\n",
       "       0.5354155 , 0.50111484, 0.57510502, 0.63439405])"
      ]
     },
     "metadata": {},
     "execution_count": 214
    }
   ],
   "metadata": {}
  },
  {
   "cell_type": "code",
   "execution_count": 215,
   "source": [
    "# Se establece un soft Threshold \r\n",
    "y_prediction_lineal[y_prediction_lineal >= 0.65904607] = 1 \r\n",
    "y_prediction_lineal[y_prediction_lineal < 0.65904607] = 0\r\n",
    "\r\n"
   ],
   "outputs": [],
   "metadata": {}
  },
  {
   "cell_type": "code",
   "execution_count": 216,
   "source": [
    "# Se puede visualizar la matriz de confusión\r\n",
    "cm = confusion_matrix(Y_test, y_prediction_lineal)\r\n",
    "cm"
   ],
   "outputs": [
    {
     "output_type": "execute_result",
     "data": {
      "text/plain": [
       "array([[52,  0],\n",
       "       [16, 11]], dtype=int64)"
      ]
     },
     "metadata": {},
     "execution_count": 216
    }
   ],
   "metadata": {}
  },
  {
   "cell_type": "code",
   "execution_count": 217,
   "source": [
    "disp = ConfusionMatrixDisplay(confusion_matrix=cm)\r\n",
    "disp.plot()\r\n",
    "plt.show()"
   ],
   "outputs": [
    {
     "output_type": "display_data",
     "data": {
      "image/png": "[encoded data removed]",
      "text/plain": [
       "<Figure size 432x288 with 2 Axes>"
      ]
     },
     "metadata": {
      "needs_background": "light"
     }
    }
   ],
   "metadata": {}
  },
  {
   "cell_type": "code",
   "execution_count": 218,
   "source": [
    "#Se muestra el reporte de clasificación\r\n",
    "print(classification_report(Y_test, y_prediction_lineal))"
   ],
   "outputs": [
    {
     "output_type": "stream",
     "name": "stdout",
     "text": [
      "              precision    recall  f1-score   support\n",
      "\n",
      "           0       0.76      1.00      0.87        52\n",
      "           1       1.00      0.41      0.58        27\n",
      "\n",
      "    accuracy                           0.80        79\n",
      "   macro avg       0.88      0.70      0.72        79\n",
      "weighted avg       0.85      0.80      0.77        79\n",
      "\n"
     ]
    }
   ],
   "metadata": {}
  }
 ],
 "metadata": {
  "kernelspec": {
   "name": "python3",
   "display_name": "Python 3.8.5 64-bit ('base': conda)"
  },
  "language_info": {
   "codemirror_mode": {
    "name": "ipython",
    "version": 3
   },
   "file_extension": ".py",
   "mimetype": "text/x-python",
   "name": "python",
   "nbconvert_exporter": "python",
   "pygments_lexer": "ipython3",
   "version": "3.8.5"
  },
  "toc-autonumbering": false,
  "toc-showcode": true,
  "toc-showmarkdowntxt": true,
  "toc-showtags": false,
  "interpreter": {
   "hash": "49beccb6958119385ce6d36865420c6b2aff7fa332d4ab133206b3783b93441f"
  }
 },
 "nbformat": 4,
 "nbformat_minor": 4
}